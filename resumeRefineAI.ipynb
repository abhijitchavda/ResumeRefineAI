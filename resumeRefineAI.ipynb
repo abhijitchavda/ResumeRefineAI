{
 "cells": [
  {
   "cell_type": "code",
   "execution_count": null,
   "metadata": {},
   "outputs": [],
   "source": [
    "pip install langchain-experimental psutil gradio"
   ]
  },
  {
   "cell_type": "markdown",
   "metadata": {},
   "source": [
    "# Import statements"
   ]
  },
  {
   "cell_type": "code",
   "execution_count": null,
   "metadata": {},
   "outputs": [],
   "source": [
    "from langchain_community.llms import Ollama\n",
    "from langchain_core.prompts import PromptTemplate\n",
    "import psutil\n",
    "import gradio as gr\n",
    "from langchain_core.prompts import ChatPromptTemplate, MessagesPlaceholder\n",
    "from langchain.schema import (\n",
    "    HumanMessage,\n",
    "    SystemMessage\n",
    ")"
   ]
  },
  {
   "cell_type": "markdown",
   "metadata": {},
   "source": [
    "# Connect to locally running LLM by using Ollama"
   ]
  },
  {
   "cell_type": "code",
   "execution_count": 2,
   "metadata": {},
   "outputs": [],
   "source": [
    "llm = Ollama(model=\"llama3.1:8b-instruct-q3_K_S\", num_thread = (psutil.cpu_count() - 3), keep_alive = -1, temperature=0.7, num_ctx=8000)\n",
    "#llm.invoke(\"hi\") #test"
   ]
  },
  {
   "cell_type": "markdown",
   "metadata": {},
   "source": [
    "# Prompts using generate knowldge prompting and prompt chaining"
   ]
  },
  {
   "cell_type": "code",
   "execution_count": 3,
   "metadata": {},
   "outputs": [],
   "source": [
    "generate_knowledge_prompt_Str = \"\"\"\n",
    "what are top 5 things to consider when writing {section} description \n",
    "for my resume. List them in bullet points and provide examples. Limit 10 lines.\n",
    "\"\"\"\n",
    "generate_knowledge_prompt = PromptTemplate(\n",
    "    template = generate_knowledge_prompt_Str,\n",
    "    input_variables = [\"section\"]\n",
    ")\n",
    "\n",
    "\n",
    "task_overview_prompt_str = \"\"\" \n",
    "I need help tailoring {section} section of my resume to better align with a specific JOB DESCRIPTION. \n",
    "The goal is to make sure the tailored {section} effectively showcases my relevant skills and experiences, \n",
    "increasing the likelihood of passing through automated screening processes like Applicant Tracking Systems (ATS) for given JOB DESCRIPTION.\n",
    "\"\"\"\n",
    "task_overview_prompt = PromptTemplate(\n",
    "    template = task_overview_prompt_str,\n",
    "    input_variables = [\"section\"]\n",
    ")\n",
    "\n",
    "input_values_prompt_str = \"\"\"\n",
    "Here are the details you'll need:\n",
    "\n",
    "My resume {section} section: \n",
    "{section_content}\n",
    "\n",
    "\n",
    "JOB DESCRIPTION:\n",
    "{job_description}\n",
    "\"\"\"\n",
    "input_values_prompt = PromptTemplate(\n",
    "    template = input_values_prompt_str,\n",
    "    input_variables = [\"section\", \"section_content\", \"job_description\"] \n",
    ")\n",
    "\n",
    "detail_instruction_prompt_str = \"\"\"\n",
    "When tailoring the resume {section} section to better align with the given JOB DESCRIPTION by showcasing my relevant skills and experiences:\n",
    "\n",
    "\t1.\tDo Not Add: Don't introduce new technologies, skills, work experience, or education that are not already present.\n",
    "\t2.\tRewording/Summarization: Feel free to reword or summarize to highlight relevant experience, using action verbs and quantifiable results.\n",
    "\t3.\tATS Compatibility: Ensure the output is ATS-friendly, using standard section headings, avoiding complex formatting, and maintaining clear bullet points.\n",
    "\t4.\tFocus on Keywords: Prioritize the use of keywords from the JOB DESCRIPTION that match my existing experience or skills. Ensure that these keywords are incorporated naturally and appropriately.\n",
    "\n",
    "{generated_knowledge}\n",
    "\"\"\"\n",
    "detail_instruction_prompt = PromptTemplate(\n",
    "    template = detail_instruction_prompt_str,\n",
    "    input_variables = [\"section\", \"generated_knowledge\"] \n",
    ")\n",
    "\n",
    "tailor_section_prompt = ChatPromptTemplate.from_messages([\n",
    "    SystemMessage(content=\"You are going to act as a professional resume writer skilled in presenting information concisely and using niche-appropriate language, while avoiding redundancy and cliché terms.\"),\n",
    "    MessagesPlaceholder(variable_name=\"messages\")\n",
    "    ])\n",
    "\n",
    "# print(task_overview_prompt.invoke({\"section\":\"\"}).text) # test"
   ]
  },
  {
   "cell_type": "markdown",
   "metadata": {},
   "source": [
    "# Create chains"
   ]
  },
  {
   "cell_type": "code",
   "execution_count": 4,
   "metadata": {},
   "outputs": [],
   "source": [
    "generate_knowledge_chain = generate_knowledge_prompt | llm\n",
    "\n",
    "tailor_section_chain = tailor_section_prompt | llm"
   ]
  },
  {
   "cell_type": "markdown",
   "metadata": {},
   "source": [
    "# driver method"
   ]
  },
  {
   "cell_type": "code",
   "execution_count": 5,
   "metadata": {},
   "outputs": [],
   "source": [
    "def polish_resume(job_description, section, section_content):\n",
    "    # Generate knowledge for writing effective resume section\n",
    "    generated_knowledge = generate_knowledge_chain.invoke({\"section\":section})\n",
    "\n",
    "    # print(generated_knowledge) # test\n",
    "    \n",
    "    # Merge all prompts into one message\n",
    "    messages = [\n",
    "        HumanMessage(content=task_overview_prompt.invoke({\"section\":section}).text),\n",
    "        HumanMessage(content=input_values_prompt.invoke({\"section\":section,\n",
    "                                                         \"section_content\":section_content,\n",
    "                                                         \"job_description\":job_description}).text),\n",
    "        HumanMessage(content=detail_instruction_prompt.invoke({\"section\":section, \"generated_knowledge\":generated_knowledge}).text),\n",
    "        HumanMessage(content=f\"Tailored {section}:\")\n",
    "    ]\n",
    "\n",
    "    # print(f\"prompt:\\n{messages}\") # test\n",
    "    \n",
    "    return tailor_section_chain.invoke({\"messages\":messages})"
   ]
  },
  {
   "cell_type": "markdown",
   "metadata": {},
   "source": [
    "# Create UI using Gradio"
   ]
  },
  {
   "cell_type": "code",
   "execution_count": 6,
   "metadata": {},
   "outputs": [
    {
     "name": "stdout",
     "output_type": "stream",
     "text": [
      "Running on local URL:  http://127.0.0.1:7860\n",
      "\n",
      "To create a public link, set `share=True` in `launch()`.\n"
     ]
    },
    {
     "data": {
      "text/html": [
       "<div><iframe src=\"http://127.0.0.1:7860/\" width=\"100%\" height=\"500\" allow=\"autoplay; camera; microphone; clipboard-read; clipboard-write;\" frameborder=\"0\" allowfullscreen></iframe></div>"
      ],
      "text/plain": [
       "<IPython.core.display.HTML object>"
      ]
     },
     "metadata": {},
     "output_type": "display_data"
    },
    {
     "data": {
      "text/plain": []
     },
     "execution_count": 6,
     "metadata": {},
     "output_type": "execute_result"
    }
   ],
   "source": [
    "# Create Gradio interface for the resume polish application, marking polish_prompt as optional\n",
    "resume_polish_application = gr.Interface(\n",
    "    fn=polish_resume,\n",
    "    allow_flagging=\"never\", # Deactivate the flag function in gradio as it is not needed.\n",
    "    inputs=[\n",
    "        gr.Textbox(label=\"Job Description\", placeholder=\"Enter the targeted job description...\", lines=20),\n",
    "        gr.Textbox(label=\"Resume Section Name\", placeholder=\"Paste your resume section name here...\"),\n",
    "        gr.Textbox(label=\"Resume Section Content\", placeholder=\"Paste your resume section content here...\", lines=20)\n",
    "    ],\n",
    "    outputs=gr.Textbox(label=\"Tailored Resume Section\"),\n",
    "    theme=gr.themes.Default(primary_hue=gr.themes.colors.red, secondary_hue=gr.themes.colors.neutral, neutral_hue=gr.themes.colors.gray),\n",
    "    title=\"ResumeRefine AI\",\n",
    "    description=\"ResumeRefine AI is a state-of-the-art tool that enhances your resume to align perfectly with job descriptions. ResumeRefine AI analyzes and refines your resume content, ensuring it matches the key requirements of your target job. With an intuitive interface built on Gradio, this application streamlines the process of resume customization, giving you a competitive edge in your job search.\"\n",
    ")\n",
    "# Launch the application\n",
    "resume_polish_application.launch()"
   ]
  }
 ],
 "metadata": {
  "kernelspec": {
   "display_name": "Python 3",
   "language": "python",
   "name": "python3"
  },
  "language_info": {
   "codemirror_mode": {
    "name": "ipython",
    "version": 3
   },
   "file_extension": ".py",
   "mimetype": "text/x-python",
   "name": "python",
   "nbconvert_exporter": "python",
   "pygments_lexer": "ipython3",
   "version": "3.11.3"
  }
 },
 "nbformat": 4,
 "nbformat_minor": 2
}
